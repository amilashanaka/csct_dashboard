{
 "cells": [
  {
   "cell_type": "code",
   "execution_count": 2,
   "metadata": {},
   "outputs": [],
   "source": [
    "from app import app\n",
    "import pandas as pd\n",
    "import datetime as dt \n",
    "import numpy as np\n",
    "import json\n",
    "\n",
    "from sqlalchemy import create_engine\n",
    "\n",
    "from sklearn.preprocessing import MinMaxScaler\n",
    "from tensorflow import keras\n",
    "from keras.models import Sequential \n",
    "from keras.layers import Dense, LSTM, Dropout\n",
    "\n",
    "from flask import Flask, jsonify, request, make_response\n",
    "from flask import flash, request\n",
    "\n",
    "from datetime import datetime, timedelta\n",
    "\n",
    "import matplotlib.pyplot as plt\n",
    "import matplotlib.dates as mdates\n",
    "import seaborn as sns\n",
    "sns.set_theme(style=\"darkgrid\")"
   ]
  },
  {
   "cell_type": "code",
   "execution_count": 3,
   "metadata": {},
   "outputs": [],
   "source": [
    "raw_data_set=pd.DataFrame()\n",
    "data_set =pd.DataFrame()\n",
    "index_data_set =pd.DataFrame()\n",
    "tranning_set=pd.DataFrame()\n",
    "result=pd.DataFrame()\n"
   ]
  },
  {
   "cell_type": "code",
   "execution_count": 4,
   "metadata": {},
   "outputs": [],
   "source": [
    "def read_data_set():\n",
    "  # Declare global variable \n",
    "  global data_set\n",
    "  global raw_data_set\n",
    "  global index_data_set\n",
    "\n",
    "  # Define database connection \n",
    "  db_connection_str = 'mysql+pymysql://root:@localhost/csct'\n",
    "  db_connection = create_engine(db_connection_str)\n",
    "\n",
    "  # Read data in to Data Frame \n",
    "  raw_data_set = pd.read_sql('SELECT * FROM aw_product_demand', con=db_connection)\n",
    "\n",
    "\n",
    "  # Validate Date\n",
    "  raw_data_set['Date']= pd.to_datetime(raw_data_set['Date']).dt.date\n",
    "  raw_data_set['Order_Demand'] = raw_data_set['Order_Demand'].astype('int64')\n",
    "\n",
    "  #combine to single date\n",
    "  data_set = raw_data_set.groupby('Date')['Order_Demand'].sum().reset_index()\n",
    "  \n",
    "  data_set.sort_values('Date', inplace=True)\n",
    "  data_set['Date']=data_set['Date'].astype(str)\n",
    "\n",
    "  # Create index data frame \n",
    "  index_data_set=data_set\n",
    "\n",
    "  index_data_set=index_data_set.set_index(index_data_set['Date'])\n",
    "\n",
    "  return data_set"
   ]
  },
  {
   "cell_type": "code",
   "execution_count": 12,
   "metadata": {},
   "outputs": [
    {
     "data": {
      "image/png": "[encoded data removed]",
      "text/plain": [
       "<Figure size 432x288 with 1 Axes>"
      ]
     },
     "metadata": {
      "needs_background": "light"
     },
     "output_type": "display_data"
    },
    {
     "data": {
      "text/plain": [
       "<Figure size 1440x504 with 0 Axes>"
      ]
     },
     "metadata": {},
     "output_type": "display_data"
    }
   ],
   "source": [
    "read_data_set()\n",
    "\n",
    "raw_data_set.plot()\n",
    "plt.figure(figsize=(20, 7))\n",
    "plt.show()"
   ]
  },
  {
   "cell_type": "code",
   "execution_count": 6,
   "metadata": {},
   "outputs": [
    {
     "name": "stdout",
     "output_type": "stream",
     "text": [
      "['aw-hungary', 'aw-romania', 'aw-slovakia', 'aw-portugal']\n"
     ]
    }
   ],
   "source": [
    "\n",
    "result=pd.DataFrame()\n",
    "product_array=raw_data_set['Product_code'].unique()\n",
    "\n",
    "warehouse_array=raw_data_set['Warehouse'].unique()\n",
    "\n",
    "print(warehouse_array.tolist())\n",
    "\n",
    " \n"
   ]
  },
  {
   "cell_type": "code",
   "execution_count": 7,
   "metadata": {},
   "outputs": [
    {
     "name": "stdout",
     "output_type": "stream",
     "text": [
      "           Date  Order_Demand\n",
      "990  2022-12-06          9699\n",
      "991  2022-12-07          9495\n",
      "992  2022-12-08          9371\n",
      "993  2022-12-09          9284\n",
      "994  2022-12-12          9331\n",
      "995  2022-12-13          9563\n",
      "996  2022-12-14          9507\n",
      "997  2022-12-15          9087\n",
      "998  2022-12-16          9027\n",
      "999  2022-12-19          8845\n",
      "15\n",
      "         Date  Forecast\n",
      "0  2022-12-20         0\n",
      "1  2022-12-21         0\n",
      "2  2022-12-22         0\n",
      "3  2022-12-23         0\n",
      "4  2022-12-24         0\n",
      "5  2022-12-25         0\n",
      "6  2022-12-26         0\n",
      "7  2022-12-27         0\n",
      "8  2022-12-28         0\n",
      "9  2022-12-29         0\n",
      "10 2022-12-30         0\n",
      "11 2022-12-31         0\n",
      "12 2023-01-01         0\n",
      "13 2023-01-02         0\n",
      "14 2023-01-03         0\n"
     ]
    }
   ],
   "source": [
    "\n",
    "\n",
    "\n",
    "\n",
    "from datetime import timedelta, datetime\n",
    "\n",
    "# given datetime\n",
    "str_d1 = '2023-1-4'\n",
    "str_d2=str(data_set.tail(1)[\"Date\"].values[0])\n",
    "\n",
    "df_old = data_set.tail(10)\n",
    "print(df_old)\n",
    "\n",
    "# convert string to date object\n",
    "d1 = datetime.strptime(str_d1, \"%Y-%m-%d\")\n",
    "d2 = datetime.strptime(str_d2, \"%Y-%m-%d\")\n",
    "d2+= timedelta(days=1)\n",
    "start_day=datetime.strftime(d2,\"%Y-%m-%d\")\n",
    "\n",
    "days_difference=(d1-d2).days\n",
    "print(days_difference)\n",
    "\n",
    "csiti = 23454\n",
    "units = [11,22,33,44,55,66,77]\n",
    "begin_date = '2019-10-16'\n",
    "\n",
    "df = pd.DataFrame({ \n",
    "                   \n",
    "                   'Date':pd.date_range(start_day, periods=days_difference),'Forecast':0})\n",
    "print (df)\n",
    "\n",
    "\n",
    "\n",
    "\n"
   ]
  },
  {
   "cell_type": "code",
   "execution_count": 8,
   "metadata": {},
   "outputs": [
    {
     "data": {
      "text/plain": [
       "[100, 67, 34, 1]"
      ]
     },
     "execution_count": 8,
     "metadata": {},
     "output_type": "execute_result"
    }
   ],
   "source": [
    "import math\n",
    "\n",
    "def FindLayerNodes(n_layers, first_layer_nodes, last_layer_nodes):\n",
    "    layers = []\n",
    "    \n",
    "    nodes_increment = (last_layer_nodes - first_layer_nodes)/ (n_layers-1)\n",
    "    nodes = first_layer_nodes\n",
    "    for i in range(1, n_layers+1):\n",
    "        layers.append(math.ceil(nodes))\n",
    "        nodes = nodes + nodes_increment\n",
    "    \n",
    "    return layers\n",
    "\n",
    "FindLayerNodes(4, 100, 1)"
   ]
  },
  {
   "cell_type": "code",
   "execution_count": 9,
   "metadata": {},
   "outputs": [],
   "source": [
    "def createmodel(n_layers, first_layer_nodes, last_layer_nodes, activation_func, loss_func):\n",
    "    model = Sequential()\n",
    "    n_nodes = FindLayerNodesLinear(n_layers, first_layer_nodes, last_layer_nodes)\n",
    "    for i in range(1, n_layers):\n",
    "        if i==1:\n",
    "            model.add(Dense(first_layer_nodes, input_dim=X_train.shape[1], activation=activation_func))\n",
    "        else:\n",
    "            model.add(Dense(n_nodes[i-1], activation=activation_func))\n",
    "            \n",
    "    #Finally, the output layer should have a single node in binary classification\n",
    "    model.add(Dense(1, activation=activation_func))\n",
    "    model.compile(optimizer='adam', loss=loss_func, metrics = [\"accuracy\"]) #note: metrics could also be 'mse'\n",
    "    \n",
    "    return model"
   ]
  },
  {
   "cell_type": "code",
   "execution_count": 10,
   "metadata": {},
   "outputs": [
    {
     "name": "stdout",
     "output_type": "stream",
     "text": [
      "The difference between actual and predicted values 1.5388307249337076\n"
     ]
    }
   ],
   "source": [
    "import math  \n",
    "import sklearn.metrics  \n",
    "actual = [0, 1, 2, 0, 3]  \n",
    "predicted = [0.2, 2.3, 4.5, 0.5, 1.1]  \n",
    "mse = sklearn.metrics.mean_squared_error(actual, predicted)  \n",
    "  \n",
    "rmse = math.sqrt(mse)  \n",
    "  \n",
    "print(\"The difference between actual and predicted values\", rmse)  "
   ]
  }
 ],
 "metadata": {
  "kernelspec": {
   "display_name": "Python 3",
   "language": "python",
   "name": "python3"
  },
  "language_info": {
   "codemirror_mode": {
    "name": "ipython",
    "version": 3
   },
   "file_extension": ".py",
   "mimetype": "text/x-python",
   "name": "python",
   "nbconvert_exporter": "python",
   "pygments_lexer": "ipython3",
   "version": "3.10.9"
  },
  "orig_nbformat": 4,
  "vscode": {
   "interpreter": {
    "hash": "ddeda93c9ca199fff51e902a980a778eab8b68d122b8281824354da7a3911ecd"
   }
  }
 },
 "nbformat": 4,
 "nbformat_minor": 2
}
